{
 "cells": [
  {
   "cell_type": "code",
   "execution_count": 68,
   "metadata": {},
   "outputs": [],
   "source": [
    "import nltk.classify.util\n",
    "from nltk.classify import NaiveBayesClassifier\n",
    "from nltk.corpus import movie_reviews"
   ]
  },
  {
   "cell_type": "code",
   "execution_count": 69,
   "metadata": {},
   "outputs": [],
   "source": [
    "def extract_features(word_list):\n",
    "    return dict([(word, True) for word in word_list])"
   ]
  },
  {
   "cell_type": "code",
   "execution_count": 70,
   "metadata": {},
   "outputs": [],
   "source": [
    "if __name__=='__main__':\n",
    "    positive_data = movie_reviews.fileids('pos')\n",
    "    negative_data = movie_reviews.fileids('neg')"
   ]
  },
  {
   "cell_type": "code",
   "execution_count": 71,
   "metadata": {},
   "outputs": [],
   "source": [
    "positive_features = [(extract_features(movie_reviews.words(fileids=[f])), \n",
    "           'Positive') for f in positive_data]\n",
    "negative_features = [(extract_features(movie_reviews.words(fileids=[f])), \n",
    "           'Negative') for f in negative_data]"
   ]
  },
  {
   "cell_type": "code",
   "execution_count": 93,
   "metadata": {},
   "outputs": [],
   "source": [
    "#Trial and error gave me best train-test split threshold at 80%\n",
    "split_point= 0.8\n",
    "positive = int(split_point * len(positive_features))\n",
    "negative = int(split_point * len(negative_features))"
   ]
  },
  {
   "cell_type": "code",
   "execution_count": 94,
   "metadata": {},
   "outputs": [
    {
     "name": "stdout",
     "output_type": "stream",
     "text": [
      "1600\n",
      "400\n"
     ]
    }
   ],
   "source": [
    "train = positive_features[:positive] + negative_features[:negative]\n",
    "test = positive_features[positive:] + negative_features[negative:]  \n",
    "print (len(features_train))\n",
    "print (len(features_test))"
   ]
  },
  {
   "cell_type": "code",
   "execution_count": 95,
   "metadata": {},
   "outputs": [
    {
     "name": "stdout",
     "output_type": "stream",
     "text": [
      "\n",
      "Accuracy : 0.735\n"
     ]
    }
   ],
   "source": [
    "classifier = NaiveBayesClassifier.train(train)\n",
    "print( \"\\nAccuracy :\", nltk.classify.util.accuracy(classifier, test))"
   ]
  },
  {
   "cell_type": "code",
   "execution_count": 96,
   "metadata": {},
   "outputs": [
    {
     "name": "stdout",
     "output_type": "stream",
     "text": [
      "outstanding\n",
      "insulting\n",
      "vulnerable\n",
      "ludicrous\n",
      "uninvolving\n",
      "astounding\n",
      "avoids\n",
      "fascination\n",
      "darker\n",
      "symbol\n"
     ]
    }
   ],
   "source": [
    "for item in classifier.most_informative_features()[:10]:\n",
    "       print (item[0])"
   ]
  },
  {
   "cell_type": "code",
   "execution_count": 97,
   "metadata": {},
   "outputs": [],
   "source": [
    "#This is where I put my sample text\n",
    "sample_text=[\"What a great show!\",\n",
    "             \"Totally worth the watch.\",\n",
    "             \"Brilliant direction of the movie.\",\n",
    "             \"It was a very dull movie. Did not like it at all.\",\n",
    "             \"The cinematography is pretty great in this movie.\",\n",
    "             \"Outstanding performance of the actors.\",\n",
    "             \"Very bad direction of the movie. Did not enjoy it.\",\n",
    "             \"The Himalayas are a beautiful range of mountains.\",\n",
    "             \"I do not like the sound of it.\",\n",
    "             \"Shame on the people who speak ill of others.\"]"
   ]
  },
  {
   "cell_type": "code",
   "execution_count": 98,
   "metadata": {},
   "outputs": [
    {
     "name": "stdout",
     "output_type": "stream",
     "text": [
      "\n",
      "Review: What a great show!\n",
      "Sentiment: Positive\n",
      "\n",
      "Review: Totally worth the watch.\n",
      "Sentiment: Positive\n",
      "\n",
      "Review: Brilliant direction of the movie.\n",
      "Sentiment: Positive\n",
      "\n",
      "Review: It was a very dull movie. Did not like it at all.\n",
      "Sentiment: Negative\n",
      "\n",
      "Review: The cinematography is pretty great in this movie.\n",
      "Sentiment: Positive\n",
      "\n",
      "Review: Outstanding performance of the actors.\n",
      "Sentiment: Positive\n",
      "\n",
      "Review: Very bad direction of the movie. Did not enjoy it.\n",
      "Sentiment: Negative\n",
      "\n",
      "Review: The Himalayas are a beautiful range of mountains.\n",
      "Sentiment: Positive\n",
      "\n",
      "Review: I do not like the sound of it.\n",
      "Sentiment: Negative\n",
      "\n",
      "Review: Shame on the people who speak ill of others.\n",
      "Sentiment: Negative\n"
     ]
    }
   ],
   "source": [
    "for i in sample_text:\n",
    "    print (\"\\nReview:\", i)\n",
    "    probdist = classifier.prob_classify(extract_features(i.split()))\n",
    "    sentiment_val = probdist.max()\n",
    "    print (\"Sentiment:\", sentiment_val)  "
   ]
  },
  {
   "cell_type": "code",
   "execution_count": null,
   "metadata": {},
   "outputs": [],
   "source": []
  }
 ],
 "metadata": {
  "kernelspec": {
   "display_name": "Python 3",
   "language": "python",
   "name": "python3"
  },
  "language_info": {
   "codemirror_mode": {
    "name": "ipython",
    "version": 3
   },
   "file_extension": ".py",
   "mimetype": "text/x-python",
   "name": "python",
   "nbconvert_exporter": "python",
   "pygments_lexer": "ipython3",
   "version": "3.7.4"
  }
 },
 "nbformat": 4,
 "nbformat_minor": 2
}
